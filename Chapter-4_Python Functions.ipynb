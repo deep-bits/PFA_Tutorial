{
 "cells": [
  {
   "cell_type": "markdown",
   "metadata": {},
   "source": [
    "<a href=\"https://raw.githubusercontent.com/deep-bits/PFA_Tutorial/main/Chapter-2_Control%20statements%20and%20Program%20Development.ipynb\" target=\"_blank\"><img src=\"https://colab.research.google.com/assets/colab-badge.svg\" alt=\"Open this notebook in Colaboratory\"/></a>"
   ]
  },
  {
   "cell_type": "markdown",
   "metadata": {
    "id": "p4yYwLI6ax5K"
   },
   "source": [
    "# Functions"
   ]
  },
  {
   "cell_type": "markdown",
   "metadata": {
    "id": "XbjjiYAcX5QL"
   },
   "source": [
    "## Introduction"
   ]
  },
  {
   "cell_type": "code",
   "execution_count": null,
   "metadata": {
    "id": "-CDSFUmwjApd"
   },
   "outputs": [],
   "source": [
    "# @title\n",
    "# Standard built-in Python functions\n",
    "print(\"This notebook is a tutorial notebook\") # A print statement"
   ]
  },
  {
   "cell_type": "markdown",
   "metadata": {
    "id": "rFhfgEOylAoG"
   },
   "source": [
    "## Defining functions"
   ]
  },
  {
   "cell_type": "code",
   "execution_count": null,
   "metadata": {
    "id": "EstaR53JUBWe"
   },
   "outputs": [],
   "source": [
    "# Defining a custom function\n",
    "def square(number):\n",
    "  \"\"\"Calculate the square of number.\"\"\"\n",
    "  return number ** 2 # Returning a result to a function caller"
   ]
  },
  {
   "cell_type": "markdown",
   "metadata": {
    "id": "HTBRvXt3a0Qd"
   },
   "source": [
    "### Function documentation"
   ]
  },
  {
   "cell_type": "code",
   "execution_count": null,
   "metadata": {
    "id": "6heHcBJfULS_"
   },
   "outputs": [],
   "source": [
    "# Show only docstring\n",
    "square?\n",
    "# Show docstring and function block\n",
    "square??"
   ]
  },
  {
   "cell_type": "markdown",
   "metadata": {
    "id": "X836mvm8Y6vx"
   },
   "source": [
    "### Calling a function"
   ]
  },
  {
   "cell_type": "code",
   "execution_count": null,
   "metadata": {
    "colab": {
     "base_uri": "https://localhost:8080/"
    },
    "executionInfo": {
     "elapsed": 22,
     "status": "ok",
     "timestamp": 1694571460647,
     "user": {
      "displayName": "Deepak Sharma",
      "userId": "17454489798718451046"
     },
     "user_tz": -330
    },
    "id": "ixMjEOIsY89L",
    "outputId": "50f9b6cc-5ab2-4fa4-cd55-31e900d5a4f6"
   },
   "outputs": [
    {
     "data": {
      "text/plain": [
       "49"
      ]
     },
     "execution_count": 4,
     "metadata": {},
     "output_type": "execute_result"
    }
   ],
   "source": [
    "square(7) # Calling the custom function"
   ]
  },
  {
   "cell_type": "markdown",
   "metadata": {
    "id": "lpQlu7Npau4K"
   },
   "source": [
    "## Functions with multiple parameters"
   ]
  },
  {
   "cell_type": "code",
   "execution_count": null,
   "metadata": {
    "colab": {
     "base_uri": "https://localhost:8080/"
    },
    "executionInfo": {
     "elapsed": 21,
     "status": "ok",
     "timestamp": 1694571460648,
     "user": {
      "displayName": "Deepak Sharma",
      "userId": "17454489798718451046"
     },
     "user_tz": -330
    },
    "id": "f0gylFGUUeUe",
    "outputId": "8859fa8f-fd09-4e5f-baf9-9a1e602c119e"
   },
   "outputs": [
    {
     "name": "stdout",
     "output_type": "stream",
     "text": [
      "ab\n"
     ]
    },
    {
     "data": {
      "text/plain": [
       "27"
      ]
     },
     "execution_count": 5,
     "metadata": {},
     "output_type": "execute_result"
    }
   ],
   "source": [
    "def maximum(value1, value2, value3):\n",
    "  \"\"\"Return the maximum of three values.\"\"\"\n",
    "  max_value = value1\n",
    "  if value2 > max_value:\n",
    "    max_value = value2\n",
    "  if value3 > max_value:\n",
    "    max_value = value3\n",
    "  return max_value\n",
    "\n",
    "maximum(12, 27,56)\n",
    "print(maximum('aaa','ab','aa'))\n",
    "min(15, 9, 27, 14)\n",
    "max(15, 9, 27, 14)"
   ]
  },
  {
   "cell_type": "code",
   "execution_count": null,
   "metadata": {
    "colab": {
     "base_uri": "https://localhost:8080/"
    },
    "executionInfo": {
     "elapsed": 20,
     "status": "ok",
     "timestamp": 1694571460648,
     "user": {
      "displayName": "Deepak Sharma",
      "userId": "17454489798718451046"
     },
     "user_tz": -330
    },
    "id": "ocon6UBkVcg6",
    "outputId": "3d86f366-2da2-461a-d979-5a89498a5149"
   },
   "outputs": [
    {
     "name": "stdout",
     "output_type": "stream",
     "text": [
      "4 4 1 2 4 2 6 6 6 4 "
     ]
    }
   ],
   "source": [
    "import random\n",
    "for roll in range(10):\n",
    "  print(random.randrange(1, 7), end=' ')"
   ]
  },
  {
   "cell_type": "markdown",
   "metadata": {
    "id": "utMuWq65a8zr"
   },
   "source": [
    "### Simulation and randomness"
   ]
  },
  {
   "cell_type": "code",
   "execution_count": null,
   "metadata": {
    "colab": {
     "base_uri": "https://localhost:8080/"
    },
    "executionInfo": {
     "elapsed": 9507,
     "status": "ok",
     "timestamp": 1694571470135,
     "user": {
      "displayName": "Deepak Sharma",
      "userId": "17454489798718451046"
     },
     "user_tz": -330
    },
    "id": "-RxRT-WiTKes",
    "outputId": "7d27f61b-02f3-411c-8d80-5db894899903"
   },
   "outputs": [
    {
     "name": "stdout",
     "output_type": "stream",
     "text": [
      "Face    Frequency\n",
      "   1       999870\n",
      "   2       999676\n",
      "   3      1000446\n",
      "   4       999727\n",
      "   5      1000705\n",
      "   6       999576\n"
     ]
    }
   ],
   "source": [
    "\n",
    "\"\"\"Roll a six-sided die 6,000,000 times.\"\"\"\n",
    "import random\n",
    "\n",
    "# face frequency counters\n",
    "frequency1 = 0\n",
    "frequency2 = 0\n",
    "frequency3 = 0\n",
    "frequency4 = 0\n",
    "frequency5 = 0\n",
    "frequency6 = 0\n",
    "\n",
    "# 6,000,000 die rolls\n",
    "for roll in range(6_000_000): # note underscore separators\n",
    "  face = random.randrange(1, 7)\n",
    "\n",
    "  # increment appropriate face counter\n",
    "  if face == 1:\n",
    "    frequency1 += 1\n",
    "  elif face == 2:\n",
    "    frequency2 += 1\n",
    "  elif face == 3:\n",
    "    frequency3 += 1\n",
    "  elif face == 4:\n",
    "    frequency4 += 1\n",
    "  elif face == 5:\n",
    "    frequency5 += 1\n",
    "  elif face == 6:\n",
    "    frequency6 += 1\n",
    "\n",
    "print(f'Face{\"Frequency\":>13}')\n",
    "print(f'{1:>4}{frequency1:>13}')\n",
    "print(f'{2:>4}{frequency2:>13}')\n",
    "print(f'{3:>4}{frequency3:>13}')\n",
    "print(f'{4:>4}{frequency4:>13}')\n",
    "print(f'{5:>4}{frequency5:>13}')\n",
    "print(f'{6:>4}{frequency6:>13}')"
   ]
  },
  {
   "cell_type": "markdown",
   "metadata": {
    "id": "ZG4S4kSWk4W8"
   },
   "source": [
    "### Dice game simulation"
   ]
  },
  {
   "cell_type": "code",
   "execution_count": null,
   "metadata": {
    "colab": {
     "base_uri": "https://localhost:8080/"
    },
    "executionInfo": {
     "elapsed": 47,
     "status": "ok",
     "timestamp": 1694571470137,
     "user": {
      "displayName": "Deepak Sharma",
      "userId": "17454489798718451046"
     },
     "user_tz": -330
    },
    "id": "IsLgIDhLbKx3",
    "outputId": "f29e3437-6c2d-4a47-8baa-990871f60cf6"
   },
   "outputs": [
    {
     "name": "stdout",
     "output_type": "stream",
     "text": [
      "Player rolled 3 + 4 = 7\n",
      "Player wins\n"
     ]
    }
   ],
   "source": [
    "# @title\n",
    "\"\"\"Simulating the dice game Craps.\"\"\"\n",
    "import random\n",
    "\n",
    "def roll_dice():\n",
    "  \"\"\"Roll two dice and return their face values as a tuple.\"\"\"\n",
    "  die1 = random.randrange(1, 7)\n",
    "  die2 = random.randrange(1, 7)\n",
    "  return (die1, die2) # pack die face values into a tuple\n",
    "\n",
    "def display_dice(dice):\n",
    "  \"\"\"Display one roll of the two dice.\"\"\"\n",
    "  die1, die2 = dice # unpack the tuple into variables die1 and die2\n",
    "  print(f'Player rolled {die1} + {die2} = {sum(dice)}')\n",
    "\n",
    "die_values = roll_dice() # first roll\n",
    "display_dice(die_values)\n",
    "\n",
    "# determine game status and point, based on first roll\n",
    "sum_of_dice = sum(die_values)\n",
    "\n",
    "if sum_of_dice in (7, 11): # win\n",
    "  game_status = 'WON'\n",
    "elif sum_of_dice in (2, 3, 12): # lose\n",
    "  game_status = 'LOST'\n",
    "else: # remember point\n",
    "  game_status = 'CONTINUE'\n",
    "  my_point = sum_of_dice\n",
    "  print('Point is', my_point)\n",
    "\n",
    "# continue rolling until player wins or loses\n",
    "while game_status == 'CONTINUE':\n",
    "  die_values = roll_dice()\n",
    "  display_dice(die_values)\n",
    "  sum_of_dice = sum(die_values)\n",
    "\n",
    "  if sum_of_dice == my_point: # win by making point\n",
    "    game_status = 'WON'\n",
    "  elif sum_of_dice == 7: # lose by rolling 7\n",
    "    game_status = 'LOST'\n",
    "\n",
    "# display \"wins\" or \"loses\" message\n",
    "if game_status == 'WON':\n",
    "  print('Player wins')\n",
    "else:\n",
    "  print('Player loses')"
   ]
  },
  {
   "cell_type": "markdown",
   "metadata": {
    "id": "DwKWCyx-kky0"
   },
   "source": [
    "### Modules"
   ]
  },
  {
   "cell_type": "code",
   "execution_count": null,
   "metadata": {
    "colab": {
     "base_uri": "https://localhost:8080/"
    },
    "executionInfo": {
     "elapsed": 40,
     "status": "ok",
     "timestamp": 1694571470137,
     "user": {
      "displayName": "Deepak Sharma",
      "userId": "17454489798718451046"
     },
     "user_tz": -330
    },
    "id": "iqJtV9S_dm5p",
    "outputId": "34d1732b-77a6-49ab-832f-e33b587f26e8"
   },
   "outputs": [
    {
     "name": "stdout",
     "output_type": "stream",
     "text": [
      "12.037441588643327\n",
      "144.9\n",
      "144\n",
      "3.14\n"
     ]
    }
   ],
   "source": [
    "import math\n",
    "x = 144.9\n",
    "print(math.sqrt(x))\n",
    "print(math.fabs(x))\n",
    "print(math.floor(x))\n",
    "# ma<Tab>\n",
    "# math.<Tab>\n",
    "pi = 3.14\n",
    "print(pi)"
   ]
  },
  {
   "cell_type": "markdown",
   "metadata": {
    "id": "YgYQZl9yfvAk"
   },
   "source": [
    "### Default parameters"
   ]
  },
  {
   "cell_type": "code",
   "execution_count": null,
   "metadata": {
    "colab": {
     "base_uri": "https://localhost:8080/"
    },
    "executionInfo": {
     "elapsed": 37,
     "status": "ok",
     "timestamp": 1694571470138,
     "user": {
      "displayName": "Deepak Sharma",
      "userId": "17454489798718451046"
     },
     "user_tz": -330
    },
    "id": "scsp_kHOfb4F",
    "outputId": "4029584e-6b29-4d62-8fe6-fbffb1a967f4"
   },
   "outputs": [
    {
     "data": {
      "text/plain": [
       "50"
      ]
     },
     "execution_count": 10,
     "metadata": {},
     "output_type": "execute_result"
    }
   ],
   "source": [
    "def rectangle_area(length = 4, width= 5):\n",
    "  \"\"\"Return a rectangle's area.\"\"\"\n",
    "  return length * width\n",
    "\n",
    "rectangle_area(5,10)"
   ]
  },
  {
   "cell_type": "markdown",
   "metadata": {
    "id": "Lc4APhumgEB1"
   },
   "source": [
    "### Keyword arguments"
   ]
  },
  {
   "cell_type": "code",
   "execution_count": null,
   "metadata": {
    "colab": {
     "base_uri": "https://localhost:8080/"
    },
    "executionInfo": {
     "elapsed": 35,
     "status": "ok",
     "timestamp": 1694571470138,
     "user": {
      "displayName": "Deepak Sharma",
      "userId": "17454489798718451046"
     },
     "user_tz": -330
    },
    "id": "OEKswxBJgCVR",
    "outputId": "5d0904bd-9685-4c31-b711-3eb2bc316b88"
   },
   "outputs": [
    {
     "data": {
      "text/plain": [
       "50"
      ]
     },
     "execution_count": 11,
     "metadata": {},
     "output_type": "execute_result"
    }
   ],
   "source": [
    " rectangle_area(length=10, width=5)"
   ]
  },
  {
   "cell_type": "markdown",
   "metadata": {
    "id": "wiCaQav7gKi0"
   },
   "source": [
    "### Arbitrary argument lists"
   ]
  },
  {
   "cell_type": "code",
   "execution_count": null,
   "metadata": {
    "colab": {
     "base_uri": "https://localhost:8080/"
    },
    "executionInfo": {
     "elapsed": 34,
     "status": "ok",
     "timestamp": 1694571470139,
     "user": {
      "displayName": "Deepak Sharma",
      "userId": "17454489798718451046"
     },
     "user_tz": -330
    },
    "id": "L1dB_lXUgM8o",
    "outputId": "a6f96d70-cb02-462f-e5df-e65bf5dc1741"
   },
   "outputs": [
    {
     "data": {
      "text/plain": [
       "2.0"
      ]
     },
     "execution_count": 12,
     "metadata": {},
     "output_type": "execute_result"
    }
   ],
   "source": [
    "def average(*argum):\n",
    "  return sum(argum) / len(argum)\n",
    "\n",
    "ll = {1,2,3,2,1}\n",
    "average(*ll) # You can also unpack an iterable"
   ]
  },
  {
   "cell_type": "markdown",
   "metadata": {
    "id": "f2VLI8ifhKmB"
   },
   "source": [
    "### Methods"
   ]
  },
  {
   "cell_type": "code",
   "execution_count": null,
   "metadata": {
    "colab": {
     "base_uri": "https://localhost:8080/",
     "height": 35
    },
    "executionInfo": {
     "elapsed": 31,
     "status": "ok",
     "timestamp": 1694571470140,
     "user": {
      "displayName": "Deepak Sharma",
      "userId": "17454489798718451046"
     },
     "user_tz": -330
    },
    "id": "_RFnjIUChIlj",
    "outputId": "54e8b6e3-4305-437f-af64-b2771fc28c15"
   },
   "outputs": [
    {
     "data": {
      "application/vnd.google.colaboratory.intrinsic+json": {
       "type": "string"
      },
      "text/plain": [
       "'hello'"
      ]
     },
     "execution_count": 13,
     "metadata": {},
     "output_type": "execute_result"
    }
   ],
   "source": [
    "s = 'Hello'\n",
    "s.lower()"
   ]
  },
  {
   "cell_type": "markdown",
   "metadata": {
    "id": "gJXaauqphibc"
   },
   "source": [
    "### Scope"
   ]
  },
  {
   "cell_type": "code",
   "execution_count": null,
   "metadata": {
    "colab": {
     "base_uri": "https://localhost:8080/"
    },
    "executionInfo": {
     "elapsed": 1851,
     "status": "ok",
     "timestamp": 1694584091158,
     "user": {
      "displayName": "Deepak Sharma",
      "userId": "17454489798718451046"
     },
     "user_tz": -330
    },
    "id": "Yoz1mDB4hkeh",
    "outputId": "78cced83-aaf7-4b20-987f-c92600f15e87"
   },
   "outputs": [
    {
     "name": "stdout",
     "output_type": "stream",
     "text": [
      "7\n",
      "7 3\n",
      "x printed from access_global: 3\n",
      "3 4\n"
     ]
    }
   ],
   "source": [
    "x = 7\n",
    "print(x)\n",
    "def access_global():\n",
    "  x = 3\n",
    "  print('x printed from access_global:', x)\n",
    "  y = 4\n",
    "  print(x,y)\n",
    "\n",
    "print(x,y)\n",
    "access_global()"
   ]
  },
  {
   "cell_type": "markdown",
   "metadata": {
    "id": "sYQ6V5A3iCpA"
   },
   "source": [
    "### Shadowed by local x"
   ]
  },
  {
   "cell_type": "code",
   "execution_count": null,
   "metadata": {
    "id": "ApPUXITimCLV"
   },
   "outputs": [],
   "source": [
    "def try_to_modify_global():\n",
    "  x = 3.5\n",
    "  print('x printed from try_to_modify_global:', x)\n",
    "\n",
    "# access_global()\n",
    "try_to_modify_global()"
   ]
  },
  {
   "cell_type": "markdown",
   "metadata": {
    "id": "V4b9db9DibJI"
   },
   "source": []
  },
  {
   "cell_type": "code",
   "execution_count": null,
   "metadata": {
    "colab": {
     "base_uri": "https://localhost:8080/",
     "height": 211
    },
    "executionInfo": {
     "elapsed": 471,
     "status": "error",
     "timestamp": 1694584257329,
     "user": {
      "displayName": "Deepak Sharma",
      "userId": "17454489798718451046"
     },
     "user_tz": -330
    },
    "id": "liEVzwqciX_4",
    "outputId": "ca4c5603-6fa1-4079-bf00-5ee84bbb3a4f"
   },
   "outputs": [
    {
     "ename": "TypeError",
     "evalue": "ignored",
     "output_type": "error",
     "traceback": [
      "\u001b[0;31m---------------------------------------------------------------------------\u001b[0m",
      "\u001b[0;31mTypeError\u001b[0m                                 Traceback (most recent call last)",
      "\u001b[0;32m<ipython-input-53-9af7a5c8aada>\u001b[0m in \u001b[0;36m<cell line: 3>\u001b[0;34m()\u001b[0m\n\u001b[1;32m      1\u001b[0m \u001b[0msum\u001b[0m \u001b[0;34m=\u001b[0m \u001b[0;36m10\u001b[0m \u001b[0;34m+\u001b[0m \u001b[0;36m5\u001b[0m\u001b[0;34m\u001b[0m\u001b[0;34m\u001b[0m\u001b[0m\n\u001b[1;32m      2\u001b[0m \u001b[0msum\u001b[0m\u001b[0;34m\u001b[0m\u001b[0;34m\u001b[0m\u001b[0m\n\u001b[0;32m----> 3\u001b[0;31m \u001b[0msum\u001b[0m\u001b[0;34m(\u001b[0m\u001b[0;34m[\u001b[0m\u001b[0;36m10\u001b[0m\u001b[0;34m,\u001b[0m \u001b[0;36m5\u001b[0m\u001b[0;34m]\u001b[0m\u001b[0;34m)\u001b[0m\u001b[0;34m\u001b[0m\u001b[0;34m\u001b[0m\u001b[0m\n\u001b[0m",
      "\u001b[0;31mTypeError\u001b[0m: 'int' object is not callable"
     ]
    }
   ],
   "source": [
    "sum = 10 + 5\n",
    "sum\n",
    "sum([10, 5])"
   ]
  },
  {
   "cell_type": "markdown",
   "metadata": {
    "id": "wUloVwmUi66n"
   },
   "source": [
    "### Import"
   ]
  },
  {
   "cell_type": "code",
   "execution_count": null,
   "metadata": {
    "colab": {
     "base_uri": "https://localhost:8080/"
    },
    "executionInfo": {
     "elapsed": 598,
     "status": "ok",
     "timestamp": 1694584324160,
     "user": {
      "displayName": "Deepak Sharma",
      "userId": "17454489798718451046"
     },
     "user_tz": -330
    },
    "id": "ByjpqB0Bi8Nz",
    "outputId": "28021b18-1092-4c65-f1c2-f41246dd4796"
   },
   "outputs": [
    {
     "name": "stdout",
     "output_type": "stream",
     "text": [
      "2.718281828459045\n"
     ]
    }
   ],
   "source": [
    "e = 'Its E not e'\n",
    "from math import ceil, floor\n",
    "from math import *\n",
    "# import math as m\n",
    "print(e)"
   ]
  },
  {
   "cell_type": "code",
   "execution_count": null,
   "metadata": {
    "id": "uR3o_05QW9mZ"
   },
   "outputs": [],
   "source": [
    "# Passing Arguments to Functions: A Deeper Look\n",
    "# Built-In Function id and Object Identities\n",
    "\n",
    "x = 7\n",
    "id(x)"
   ]
  },
  {
   "cell_type": "code",
   "execution_count": null,
   "metadata": {
    "colab": {
     "base_uri": "https://localhost:8080/"
    },
    "executionInfo": {
     "elapsed": 677,
     "status": "ok",
     "timestamp": 1694585495454,
     "user": {
      "displayName": "Deepak Sharma",
      "userId": "17454489798718451046"
     },
     "user_tz": -330
    },
    "id": "GDiXOHsKW9im",
    "outputId": "38c38df4-9e1f-4d39-c012-bbf48baa6df7"
   },
   "outputs": [
    {
     "name": "stdout",
     "output_type": "stream",
     "text": [
      "3 139273435365680\n",
      "id(number): 139273435365680\n"
     ]
    },
    {
     "data": {
      "text/plain": [
       "3"
      ]
     },
     "execution_count": 61,
     "metadata": {},
     "output_type": "execute_result"
    }
   ],
   "source": [
    "# Passing an Object to a Function\n",
    "def cube(number):\n",
    "    out = number * 1\n",
    "    print('id(number):', id(out))\n",
    "    return out\n",
    "\n",
    "x = 3\n",
    "print(x, id(x))\n",
    "cube(3) # Pass Object reference\n"
   ]
  },
  {
   "cell_type": "code",
   "execution_count": null,
   "metadata": {
    "colab": {
     "base_uri": "https://localhost:8080/"
    },
    "executionInfo": {
     "elapsed": 646,
     "status": "ok",
     "timestamp": 1694584524389,
     "user": {
      "displayName": "Deepak Sharma",
      "userId": "17454489798718451046"
     },
     "user_tz": -330
    },
    "id": "ueUNaR8lW9eV",
    "outputId": "758673a9-ef1c-4900-facb-78ad6338f05f"
   },
   "outputs": [
    {
     "name": "stdout",
     "output_type": "stream",
     "text": [
      "number is x: True\n"
     ]
    },
    {
     "data": {
      "text/plain": [
       "39.303999999999995"
      ]
     },
     "execution_count": 56,
     "metadata": {},
     "output_type": "execute_result"
    }
   ],
   "source": [
    "# Testing Object Identities with the is Operator\n",
    "def cube(number):\n",
    "    print('number is x:', number is x) # x is a global variable\n",
    "    return number ** 3\n",
    "    cube(x)\n",
    "x = 3.4\n",
    "cube(x)"
   ]
  },
  {
   "cell_type": "code",
   "execution_count": null,
   "metadata": {
    "colab": {
     "base_uri": "https://localhost:8080/"
    },
    "executionInfo": {
     "elapsed": 485,
     "status": "ok",
     "timestamp": 1694578899422,
     "user": {
      "displayName": "Deepak Sharma",
      "userId": "17454489798718451046"
     },
     "user_tz": -330
    },
    "id": "81vDfcrFWuGd",
    "outputId": "994de8ba-8221-43a9-e57b-1b7e3d0657bc"
   },
   "outputs": [
    {
     "name": "stdout",
     "output_type": "stream",
     "text": [
      "id(number) before modifying number: 139273435365712\n",
      "id(number) after modifying number: 139273435365968\n",
      "x = 7; id(x) = 139273435365808\n"
     ]
    }
   ],
   "source": [
    "# Immutable Objects as Arguments\n",
    "def cube(number):\n",
    "  print('id(number) before modifying number:', id(number))\n",
    "  number *= 3\n",
    "  print('id(number) after modifying number:', id(number))\n",
    "  return number\n",
    "cube(4)\n",
    "\n",
    "print(f'x = {x}; id(x) = {id(x)}')"
   ]
  },
  {
   "cell_type": "code",
   "execution_count": 28,
   "metadata": {
    "colab": {
     "base_uri": "https://localhost:8080/"
    },
    "executionInfo": {
     "elapsed": 5,
     "status": "ok",
     "timestamp": 1694686244727,
     "user": {
      "displayName": "Deepak Sharma",
      "userId": "17454489798718451046"
     },
     "user_tz": -330
    },
    "id": "NLvMLe6HWuBa",
    "outputId": "b44e21c1-bb04-48b0-fce1-cc507ef75bdb"
   },
   "outputs": [
    {
     "name": "stdout",
     "output_type": "stream",
     "text": [
      "id: 132926821133296  value: 15.3\n",
      "id: 132926821132080  value: 15.3\n",
      "False\n"
     ]
    }
   ],
   "source": [
    "width1 = 15.3\n",
    "print('id:', id(width1), ' value:', width1)\n",
    "\n",
    "width2 = 15.3\n",
    "print('id:', id(width2), ' value:', width2)\n",
    "w2 = width2\n",
    "\n",
    "if True:\n",
    "  print(width1 is width2)\n",
    "else:\n",
    "  width1 is width2"
   ]
  },
  {
   "cell_type": "code",
   "execution_count": 11,
   "metadata": {
    "colab": {
     "base_uri": "https://localhost:8080/"
    },
    "executionInfo": {
     "elapsed": 4,
     "status": "ok",
     "timestamp": 1694685642412,
     "user": {
      "displayName": "Deepak Sharma",
      "userId": "17454489798718451046"
     },
     "user_tz": -330
    },
    "id": "3lKNvPtYXyQ-",
    "outputId": "28a52ba0-d385-43e7-86c3-f61011766a44"
   },
   "outputs": [
    {
     "name": "stdout",
     "output_type": "stream",
     "text": [
      "False\n"
     ]
    }
   ],
   "source": [
    "x = 5;\n",
    "y = x;\n",
    "if True:\n",
    "  print(id(x) is id(y))\n",
    "else:\n",
    "  print(id(x) is id(y))"
   ]
  },
  {
   "cell_type": "markdown",
   "metadata": {
    "id": "qos1x2NVXLDT"
   },
   "source": [
    "### Functional-Style Programming"
   ]
  },
  {
   "cell_type": "code",
   "execution_count": null,
   "metadata": {
    "id": "6i8_SHv_Wt-D"
   },
   "outputs": [],
   "source": [
    "values = [1, 2, 3]\n",
    "sum(values)\n",
    "\n",
    "sum(values) # same call always returns same result\n",
    "values # No side effects\n",
    "for i in values: # Internal iteration\n",
    "  print(i)\n",
    "len(values)\n",
    "\n",
    "# Function call stack\n",
    "# Stack frame\n",
    "# Stack overflow\n",
    "# Principle of least priviledge"
   ]
  },
  {
   "cell_type": "markdown",
   "metadata": {
    "id": "UQ7YgX8EXFzK"
   },
   "source": [
    "## Intro to Data Science: Measures of Dispersion"
   ]
  },
  {
   "cell_type": "code",
   "execution_count": null,
   "metadata": {
    "id": "-VUoCGnEWt7A"
   },
   "outputs": [],
   "source": [
    "#Variance\n",
    "import statistics\n",
    "statistics.pvariance([1, 3, 4, 2, 6, 5, 3, 4, 5, 2])"
   ]
  },
  {
   "cell_type": "code",
   "execution_count": null,
   "metadata": {
    "id": "p0IyfylHWt4D"
   },
   "outputs": [],
   "source": [
    "#Standard Deviation\n",
    "statistics.pstdev([1, 3, 4, 2, 6, 5, 3, 4, 5, 2])"
   ]
  },
  {
   "cell_type": "code",
   "execution_count": null,
   "metadata": {
    "id": "4ZbQ1WZZWt0_"
   },
   "outputs": [],
   "source": [
    "import math\n",
    "math.sqrt(statistics.pvariance([1, 3, 4, 2, 6, 5, 3, 4, 5, 2])) # Function composition"
   ]
  },
  {
   "cell_type": "markdown",
   "metadata": {
    "id": "uq7-nqdacZ29"
   },
   "source": [
    "### Sample Standard Deviation & Variance"
   ]
  },
  {
   "cell_type": "code",
   "execution_count": null,
   "metadata": {
    "id": "4wY8jTdUWtlq"
   },
   "outputs": [],
   "source": [
    "import statistics\n",
    "statistics.variance([1, 3, 4, 2, 6, 5, 3, 4, 5, 2])\n",
    "statistics.stdev([1, 3, 4, 2, 6, 5, 3, 4, 5, 2])"
   ]
  }
 ],
 "metadata": {
  "colab": {
   "authorship_tag": "ABX9TyOu2GIKaKYuiLEaewMEQa6m",
   "provenance": []
  },
  "kernelspec": {
   "display_name": "Python 3 (ipykernel)",
   "language": "python",
   "name": "python3"
  },
  "language_info": {
   "codemirror_mode": {
    "name": "ipython",
    "version": 3
   },
   "file_extension": ".py",
   "mimetype": "text/x-python",
   "name": "python",
   "nbconvert_exporter": "python",
   "pygments_lexer": "ipython3",
   "version": "3.9.16"
  }
 },
 "nbformat": 4,
 "nbformat_minor": 1
}
